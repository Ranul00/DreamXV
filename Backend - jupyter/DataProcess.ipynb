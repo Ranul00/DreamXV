{
 "cells": [
  {
   "cell_type": "code",
   "execution_count": 11,
   "metadata": {},
   "outputs": [],
   "source": [
    "import pandas as pd\n",
    "from sklearn.tree import DecisionTreeClassifier\n",
    "from sklearn.model_selection import train_test_split\n",
    "from sklearn.metrics import accuracy_score\n",
    "import openpyxl as xl\n",
    "import requests"
   ]
  },
  {
   "cell_type": "code",
   "execution_count": 12,
   "metadata": {},
   "outputs": [],
   "source": [
    "# Loading Players xl sheet 'Prediction Stats'\n",
    "\n",
    "df = pd.read_excel(\"Kaggle.xlsx\", \"Prediction Stats\", index_col=None, na_values=[\"NA\"])"
   ]
  },
  {
   "cell_type": "code",
   "execution_count": 13,
   "metadata": {},
   "outputs": [],
   "source": [
    "# creating input dataset\n",
    "\n",
    "X = df.drop(columns = ['Name', 'Team','Position', 'Matches Selected', \n",
    "                       'Matches Started', 'Matches as a Sub', 'Captain',\n",
    "                       'Temporary Sub', 'Drop Goals', 'Conversion Attempts', \n",
    "                       'Conversion Scored', 'Penalties Attempts', 'Penalties Scored',\n",
    "                       'Sin Bin', 'Rescinded', 'Red Card','Matches Played'])"
   ]
  },
  {
   "cell_type": "code",
   "execution_count": 14,
   "metadata": {},
   "outputs": [],
   "source": [
    "# creating target dataset\n",
    "\n",
    "y = df['Position']"
   ]
  },
  {
   "cell_type": "code",
   "execution_count": 15,
   "metadata": {},
   "outputs": [],
   "source": [
    "# loading Players xl sheet\n",
    "\n",
    "wb = xl.load_workbook('Kaggle.xlsx')\n",
    "ws1 = wb['Player Details']"
   ]
  },
  {
   "cell_type": "code",
   "execution_count": 16,
   "metadata": {},
   "outputs": [],
   "source": [
    "# Creating a model using decision tree algorithm\n",
    "\n",
    "model = DecisionTreeClassifier()"
   ]
  },
  {
   "cell_type": "code",
   "execution_count": 17,
   "metadata": {},
   "outputs": [
    {
     "name": "stdout",
     "output_type": "stream",
     "text": [
      "Accuracy = 25.766871165644172%\n"
     ]
    }
   ],
   "source": [
    "# training dataset and get the accuracy train 80% and test 20%\n",
    "\n",
    "X_train, X_test, y_train, y_test = train_test_split(X, y, test_size = 0.2)\n",
    "\n",
    "model = DecisionTreeClassifier()\n",
    "model.fit(X_train, y_train)\n",
    "acc_predictions = model.predict(X_test)\n",
    "acc_score = accuracy_score(y_test, acc_predictions) * 100\n",
    "print('Accuracy = ' + str(acc_score) + '%')"
   ]
  },
  {
   "cell_type": "code",
   "execution_count": 18,
   "metadata": {},
   "outputs": [
    {
     "name": "stdout",
     "output_type": "stream",
     "text": [
      "Accuracy = 24.9079754601227%\n"
     ]
    }
   ],
   "source": [
    "# training dataset and get the accuracy train 50% and test 50%\n",
    "\n",
    "X_train, X_test, y_train, y_test = train_test_split(X, y, test_size = 0.2)\n",
    "\n",
    "model = DecisionTreeClassifier()\n",
    "model.fit(X_train, y_train)\n",
    "acc_predictions = model.predict(X_test)\n",
    "acc_score = accuracy_score(y_test, acc_predictions) * 100\n",
    "print('Accuracy = ' + str(acc_score) + '%')"
   ]
  },
  {
   "cell_type": "code",
   "execution_count": 19,
   "metadata": {},
   "outputs": [
    {
     "name": "stdout",
     "output_type": "stream",
     "text": [
      "Accuracy = 23.303653669020573%\n"
     ]
    }
   ],
   "source": [
    "# training dataset and get the accuracy train 20% and test 80%\n",
    "\n",
    "X_train, X_test, y_train, y_test = train_test_split(X, y, test_size = 0.8)\n",
    "\n",
    "model = DecisionTreeClassifier()\n",
    "model.fit(X_train, y_train)\n",
    "acc_predictions = model.predict(X_test)\n",
    "acc_score = accuracy_score(y_test, acc_predictions) * 100\n",
    "print('Accuracy = ' + str(acc_score) + '%')"
   ]
  },
  {
   "cell_type": "code",
   "execution_count": 20,
   "metadata": {},
   "outputs": [
    {
     "name": "stdout",
     "output_type": "stream",
     "text": [
      "Done\n"
     ]
    }
   ],
   "source": [
    "# getting predition and store it in xl sheet function\n",
    "\n",
    "model = DecisionTreeClassifier()\n",
    "model.fit(X, y)\n",
    "\n",
    "ws1.cell(1, 33).value = \"Predicted Position\"\n",
    "\n",
    "for row in range(2, ws1.max_row + 1):\n",
    "    \n",
    "    predictions = model.predict([[\n",
    "            ws1.cell(row, 18).value,\n",
    "            ws1.cell(row, 19).value,\n",
    "            ws1.cell(row, 20).value,\n",
    "            ws1.cell(row, 22).value,\n",
    "            ws1.cell(row, 23).value,\n",
    "            ws1.cell(row, 28).value\n",
    "            ]])\n",
    "    ws1.cell(row, 33).value = predictions[0]\n",
    "        \n",
    "wb.save('Kaggle.xlsx')\n",
    "\n",
    "print(\"Done\")"
   ]
  },
  {
   "cell_type": "code",
   "execution_count": null,
   "metadata": {},
   "outputs": [],
   "source": []
  }
 ],
 "metadata": {
  "kernelspec": {
   "display_name": "Python 3",
   "language": "python",
   "name": "python3"
  },
  "language_info": {
   "codemirror_mode": {
    "name": "ipython",
    "version": 3
   },
   "file_extension": ".py",
   "mimetype": "text/x-python",
   "name": "python",
   "nbconvert_exporter": "python",
   "pygments_lexer": "ipython3",
   "version": "3.8.5"
  }
 },
 "nbformat": 4,
 "nbformat_minor": 4
}
