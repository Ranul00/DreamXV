{
 "cells": [
  {
   "cell_type": "code",
   "execution_count": 6,
   "metadata": {},
   "outputs": [],
   "source": [
    "import openpyxl as xl\n",
    "import requests \n",
    "from bs4 import BeautifulSoup"
   ]
  },
  {
   "cell_type": "code",
   "execution_count": 7,
   "metadata": {},
   "outputs": [],
   "source": [
    "class Player:    \n",
    "    def __init__(self, name, score, link, img):\n",
    "        self.name = name\n",
    "        self.score = score\n",
    "        self.link = link\n",
    "        self.img = img\n",
    "        self.position = \"\"\n",
    "        self.height = 0\n",
    "        self.weight = 0\n",
    "        self.dob = \"\"\n",
    "        self.team = \"\"\n",
    "        \n",
    "    def setDetails(self, position, positionNo, height, weight, dob, team):\n",
    "        self.position = position\n",
    "        self.positionNo = positionNo\n",
    "        self.height = height\n",
    "        self.weight = weight\n",
    "        self.dob = dob\n",
    "        self.team = team\n",
    "    \n",
    "    def getName(self):\n",
    "        return self.name\n",
    "\n",
    "    def getScore(self):\n",
    "        return self.score\n",
    "\n",
    "    def getLink(self):\n",
    "        return self.link\n",
    "\n",
    "    def getImg(self):\n",
    "        return self.img\n",
    "\n",
    "    def getPosition(self):\n",
    "        return self.position\n",
    "    \n",
    "    def getPositionNo(self):\n",
    "        return self.positionNo\n",
    "\n",
    "    def getHeight(self):\n",
    "        return self.height\n",
    "\n",
    "    def getWeight(self):\n",
    "        return self.weight\n",
    "\n",
    "    def getDob(self):\n",
    "        return self.dob\n",
    "\n",
    "    def getTeam(self):\n",
    "        return self.team"
   ]
  },
  {
   "cell_type": "code",
   "execution_count": 8,
   "metadata": {},
   "outputs": [],
   "source": [
    "class Date:    \n",
    "    def __init__(self, day, month, year):\n",
    "        self.day = day        \n",
    "        self.month = month                \n",
    "        self.year = year\n",
    "\n",
    "    def getDay(self):\n",
    "        return self.day\n",
    "\n",
    "    def getMonth(self):\n",
    "        return self.month\n",
    "\n",
    "    def getYear(self):\n",
    "        return self.year"
   ]
  },
  {
   "cell_type": "code",
   "execution_count": 8,
   "metadata": {},
   "outputs": [],
   "source": [
    "def scrapePlayers():\n",
    "    \n",
    "    playerList = []\n",
    "\n",
    "    page = requests.get('https://index.rugbypass.com/rpi/six-nations/all/all/7-days/high-to-low/players/')\n",
    "    content = BeautifulSoup(page.content, 'html.parser')\n",
    "    players = content.find_all(class_='player-bar')\n",
    "    \n",
    "    for p in players:\n",
    "        newPlayer = Player(p.find(class_='name').string, p.find(class_='display-score').string, p['href'], p.find('img')['src'])\n",
    "        playerList.append(newPlayer)\n",
    "    return playerList"
   ]
  },
  {
   "cell_type": "code",
   "execution_count": 2,
   "metadata": {},
   "outputs": [
    {
     "ename": "NameError",
     "evalue": "name 'scrapePlayers' is not defined",
     "output_type": "error",
     "traceback": [
      "\u001b[1;31m---------------------------------------------------------------------------\u001b[0m",
      "\u001b[1;31mNameError\u001b[0m                                 Traceback (most recent call last)",
      "\u001b[1;32m<ipython-input-2-9dc14c1b88a8>\u001b[0m in \u001b[0;36m<module>\u001b[1;34m\u001b[0m\n\u001b[1;32m----> 1\u001b[1;33m \u001b[1;32mfor\u001b[0m \u001b[0mx\u001b[0m \u001b[1;32min\u001b[0m \u001b[0mscrapePlayers\u001b[0m\u001b[1;33m(\u001b[0m\u001b[1;33m)\u001b[0m\u001b[1;33m:\u001b[0m\u001b[1;33m\u001b[0m\u001b[1;33m\u001b[0m\u001b[0m\n\u001b[0m\u001b[0;32m      2\u001b[0m     \u001b[0mprint\u001b[0m\u001b[1;33m(\u001b[0m\u001b[0mx\u001b[0m\u001b[1;33m.\u001b[0m\u001b[0mgetName\u001b[0m\u001b[1;33m(\u001b[0m\u001b[1;33m)\u001b[0m \u001b[1;33m+\u001b[0m \u001b[1;34m\"\\t--> \"\u001b[0m \u001b[1;33m+\u001b[0m \u001b[0mx\u001b[0m\u001b[1;33m.\u001b[0m\u001b[0mgetScore\u001b[0m\u001b[1;33m(\u001b[0m\u001b[1;33m)\u001b[0m\u001b[1;33m)\u001b[0m\u001b[1;33m\u001b[0m\u001b[1;33m\u001b[0m\u001b[0m\n\u001b[0;32m      3\u001b[0m     \u001b[0mprint\u001b[0m\u001b[1;33m(\u001b[0m\u001b[1;34m\"\\tlink\\t--> \"\u001b[0m \u001b[1;33m+\u001b[0m \u001b[0mx\u001b[0m\u001b[1;33m.\u001b[0m\u001b[0mgetLink\u001b[0m\u001b[1;33m(\u001b[0m\u001b[1;33m)\u001b[0m\u001b[1;33m)\u001b[0m\u001b[1;33m\u001b[0m\u001b[1;33m\u001b[0m\u001b[0m\n\u001b[0;32m      4\u001b[0m     \u001b[0mprint\u001b[0m\u001b[1;33m(\u001b[0m\u001b[1;34m\"\\timg\\t--> \"\u001b[0m \u001b[1;33m+\u001b[0m \u001b[0mx\u001b[0m\u001b[1;33m.\u001b[0m\u001b[0mgetImg\u001b[0m\u001b[1;33m(\u001b[0m\u001b[1;33m)\u001b[0m\u001b[1;33m)\u001b[0m\u001b[1;33m\u001b[0m\u001b[1;33m\u001b[0m\u001b[0m\n",
      "\u001b[1;31mNameError\u001b[0m: name 'scrapePlayers' is not defined"
     ]
    }
   ],
   "source": [
    "\n",
    "\n",
    "for x in scrapePlayers():\n",
    "    print(x.getName() + \"\\t--> \" + x.getScore())\n",
    "    print(\"\\tlink\\t--> \" + x.getLink())\n",
    "    print(\"\\timg\\t--> \" + x.getImg())"
   ]
  },
  {
   "cell_type": "code",
   "execution_count": 3,
   "metadata": {},
   "outputs": [],
   "source": [
    "# def scrapeDetails(link):\n",
    "#     page = requests.get(link)\n",
    "#     content = BeautifulSoup(page.content, 'html.parser')\n",
    "#     pos = content.find(class_='positions').string[1:-1]\n",
    "\n",
    "#     measurements = content.find_all(class_='measurement')\n",
    "\n",
    "#     height = 0\n",
    "\n",
    "#     weight = 0\n",
    "\n",
    "#     day = 0\n",
    "\n",
    "#     month = \"\"\n",
    "\n",
    "#     year = 0\n",
    "\n",
    "#     for m in measurements:\n",
    "#         if ('divHeightdiv' in m.get_text('div')):\n",
    "#             height = m.get_text('div')[14:]\n",
    "\n",
    "#         elif ('divWeightdiv' in m.get_text('div')):\n",
    "#             weight = m.get_text('div')[14:]\n",
    "\n",
    "#         elif ('divDOBdiv' in m.get_text('div')):\n",
    "#             day = int(m.get_text('div')[11:13])\n",
    "#             month = m.get_text('div')[14:17]\n",
    "#             year = int(m.get_text('div')[18:22])\n",
    "\n",
    "#     teams = content.find_all(class_='player-team')\n",
    "\n",
    "#     team = \"\"\n",
    "\n",
    "#     for t in teams:\n",
    "#         if (\"England\" in t.get_text()):\n",
    "#             team = \"England\"\n",
    "\n",
    "#         elif (\"France\" in t.get_text()):\n",
    "#             team = \"France\"\n",
    "\n",
    "#         elif (\"Ireland\" in t.get_text()):\n",
    "#             team = \"Ireland\"\n",
    "\n",
    "#         elif (\"Italy\" in t.get_text()):\n",
    "#             team = \"Italy\"\n",
    "\n",
    "#         elif (\"Scotland\" in t.get_text()):\n",
    "#             team = \"Scotland\"\n",
    "\n",
    "#         elif (\"Wales\" in t.get_text()):\n",
    "#             team = \"Wales\"\n",
    "\n",
    "#     dob = Date(day, month, year)\n",
    "\n",
    "#     playerDeails = PlayerDetails(pos, height, weight, dob, team)\n",
    "\n",
    "#     return playerDeails"
   ]
  },
  {
   "cell_type": "code",
   "execution_count": 7,
   "metadata": {},
   "outputs": [],
   "source": [
    "#  month proofing as a int\n",
    "\n",
    "#         months = [Jan, Feb, Mar, Apr, May, Jun, Jul, Aug, Sep, Oct, Nov, Dec]\n",
    "#         for mon in months:\n",
    "#              if mon in month:"
   ]
  },
  {
   "cell_type": "code",
   "execution_count": null,
   "metadata": {},
   "outputs": [],
   "source": []
  }
 ],
 "metadata": {
  "kernelspec": {
   "display_name": "Python 3",
   "language": "python",
   "name": "python3"
  },
  "language_info": {
   "codemirror_mode": {
    "name": "ipython",
    "version": 3
   },
   "file_extension": ".py",
   "mimetype": "text/x-python",
   "name": "python",
   "nbconvert_exporter": "python",
   "pygments_lexer": "ipython3",
   "version": "3.8.5"
  }
 },
 "nbformat": 4,
 "nbformat_minor": 4
}
