{
 "cells": [
  {
   "cell_type": "code",
   "execution_count": 93,
   "metadata": {},
   "outputs": [],
   "source": [
    "import openpyxl as xl\n",
    "import requests \n",
    "from bs4 import BeautifulSoup"
   ]
  },
  {
   "cell_type": "code",
   "execution_count": 94,
   "metadata": {},
   "outputs": [],
   "source": [
    "class Player:    \n",
    "    def __init__(self, name, link, team, position):\n",
    "        self.name = name\n",
    "        self.link = link\n",
    "        self.team = team\n",
    "        self.position = position\n",
    "    \n",
    "    def getName(self):\n",
    "        return self.name\n",
    "\n",
    "    def getLink(self):\n",
    "        return self.link\n",
    "    \n",
    "    def getTeam(self):\n",
    "        return self.team\n",
    "    \n",
    "    def getPosition(self):\n",
    "        return self.position"
   ]
  },
  {
   "cell_type": "code",
   "execution_count": 95,
   "metadata": {},
   "outputs": [],
   "source": [
    "def comLinkList(link):\n",
    "\n",
    "    playersList = []\n",
    "\n",
    "    page = requests.get(link)\n",
    "    soup = BeautifulSoup(page.content, 'html.parser')\n",
    "\n",
    "    linkList = []\n",
    "\n",
    "    x = soup.find(id='comp') \n",
    "    a = x['action']\n",
    "    print(a)\n",
    "    y = x.find('input')\n",
    "    b = y['value']\n",
    "    print(b)\n",
    "    z = x.find_all('option')\n",
    "\n",
    "    valueList = []\n",
    "\n",
    "    i = 0\n",
    "    for m in z:\n",
    "        if (i != 0):        \n",
    "            c = m['value']\n",
    "            valueList.append(c)\n",
    "        i = i + 1\n",
    "\n",
    "    for v in valueList:\n",
    "        link = a + '?comp_id=' +  str(b) + '&club_id=' + str(v)\n",
    "        linkList.append(link)\n",
    "\n",
    "    return linkList"
   ]
  },
  {
   "cell_type": "code",
   "execution_count": 96,
   "metadata": {},
   "outputs": [],
   "source": [
    "# player scrape from starbunker 6 nation team function\n",
    "\n",
    "def scrapePlayers(linkX,team):\n",
    "    \n",
    "    playersList = []\n",
    "\n",
    "    page = requests.get(linkX)\n",
    "    soup = BeautifulSoup(page.content, 'html.parser')\n",
    "    \n",
    "    playerClass = soup.find(class_='hozList')    \n",
    "    players = playerClass.find_all('a')\n",
    "    \n",
    "    for p in players:\n",
    "        x = p.find_previous(\"ul\")\n",
    "        y = x.find_previous_sibling('h3').string\n",
    "        playersList.append(Player(p.find('p').string, p['href'], team, y))\n",
    "        \n",
    "    return playersList"
   ]
  },
  {
   "cell_type": "code",
   "execution_count": 97,
   "metadata": {},
   "outputs": [],
   "source": [
    "# list for scrapped players from web\n",
    "\n",
    "scrappedPlayerList = []\n",
    "\n",
    "scrappedPlayerListEng = []\n",
    "scrappedPlayerListFra = []\n",
    "scrappedPlayerListIre = []\n",
    "scrappedPlayerListIta = []\n",
    "scrappedPlayerListSco = []\n",
    "scrappedPlayerListWal = []"
   ]
  },
  {
   "cell_type": "code",
   "execution_count": 98,
   "metadata": {},
   "outputs": [],
   "source": [
    "# players adding to scarppedPlayerList function\n",
    "\n",
    "def playersAddToSPL(playerList, scrapeList):\n",
    "    \n",
    "    for sp in scrapeList:\n",
    "        for p in playerList:\n",
    "            if(sp.getName == p.getName):\n",
    "                playerList.remove(p)\n",
    "                \n",
    "    for p in playerList:\n",
    "        scrapeList.append(p)"
   ]
  },
  {
   "cell_type": "code",
   "execution_count": 99,
   "metadata": {},
   "outputs": [],
   "source": [
    "#  adding players to scarppedPlayerList21\n",
    "\n",
    "def teamAllPlayers(link, team, scrappedPlayerList):\n",
    "    for l in comLinkList(link):\n",
    "        playersAddToSPL(scrapePlayers(l, team), scrappedPlayerList)\n"
   ]
  },
  {
   "cell_type": "code",
   "execution_count": 100,
   "metadata": {},
   "outputs": [
    {
     "name": "stdout",
     "output_type": "stream",
     "text": [
      "https://rugby.statbunker.com/competitions/getCompClubSquad\n",
      "116\n",
      "https://rugby.statbunker.com/competitions/getCompClubSquad\n",
      "120\n",
      "https://rugby.statbunker.com/competitions/getCompClubSquad\n",
      "119\n",
      "https://rugby.statbunker.com/competitions/getCompClubSquad\n",
      "122\n",
      "https://rugby.statbunker.com/competitions/getCompClubSquad\n",
      "118\n",
      "https://rugby.statbunker.com/competitions/getCompClubSquad\n",
      "117\n"
     ]
    }
   ],
   "source": [
    "teamAllPlayers('https://rugby.statbunker.com/competitions/getCompClubSquad?comp_id=653&club_id=116', 'England', scrappedPlayerListEng)\n",
    "teamAllPlayers('https://rugby.statbunker.com/competitions/getCompClubSquad?comp_id=653&club_id=120', 'France', scrappedPlayerListFra)\n",
    "teamAllPlayers('https://rugby.statbunker.com/competitions/getCompClubSquad?comp_id=653&club_id=119', 'Ireland', scrappedPlayerListIre)\n",
    "teamAllPlayers('https://rugby.statbunker.com/competitions/getCompClubSquad?comp_id=653&club_id=122', 'Italy', scrappedPlayerListIta)\n",
    "teamAllPlayers('https://rugby.statbunker.com/competitions/getCompClubSquad?comp_id=653&club_id=118', 'Scotland', scrappedPlayerListSco)\n",
    "teamAllPlayers('https://rugby.statbunker.com/competitions/getCompClubSquad?comp_id=653&club_id=117', 'Wales', scrappedPlayerListWal)"
   ]
  },
  {
   "cell_type": "code",
   "execution_count": 101,
   "metadata": {},
   "outputs": [],
   "source": [
    "def addToML(mainList, compList):\n",
    "    \n",
    "    list1 = mainList\n",
    "    list2 = compList\n",
    "    \n",
    "    for player in list2:\n",
    "        list1.append(player)\n",
    "        \n",
    "    mainList = list1"
   ]
  },
  {
   "cell_type": "code",
   "execution_count": 102,
   "metadata": {},
   "outputs": [
    {
     "name": "stdout",
     "output_type": "stream",
     "text": [
      "1701\n"
     ]
    }
   ],
   "source": [
    "# adding to scrappedPlayerList list\n",
    "\n",
    "addToML(scrappedPlayerList, scrappedPlayerListEng)\n",
    "addToML(scrappedPlayerList, scrappedPlayerListFra)\n",
    "addToML(scrappedPlayerList, scrappedPlayerListIre)\n",
    "addToML(scrappedPlayerList, scrappedPlayerListIta)\n",
    "addToML(scrappedPlayerList, scrappedPlayerListSco)\n",
    "addToML(scrappedPlayerList, scrappedPlayerListWal)\n",
    "\n",
    "print(len(scrappedPlayerList))"
   ]
  },
  {
   "cell_type": "code",
   "execution_count": 103,
   "metadata": {},
   "outputs": [],
   "source": [
    "# loading Players xl sheet\n",
    "\n",
    "wb = xl.load_workbook('Kaggle.xlsx')\n",
    "ws1 = wb['Player Details']\n",
    "ws2 = wb['Prediction Stats']"
   ]
  },
  {
   "cell_type": "code",
   "execution_count": 104,
   "metadata": {},
   "outputs": [],
   "source": [
    "col_headers = [\"Name\",\n",
    "               \"Team\",\n",
    "               \"Position\",\n",
    "               \"Matches Played\", \n",
    "               \"Matches Selected\",\n",
    "               \"Matches Started\",\n",
    "               \"Matches as a Sub\",\n",
    "               \"Captain\", \n",
    "               \"Minutes Played\", \n",
    "               \"Came On\", \n",
    "               \"Minutes as a Sub\",\n",
    "               \"Temporary Sub\", \n",
    "               \"Came Off\",\n",
    "               \"Tries\",\n",
    "               \"Drop Goals\",\n",
    "               \"Conversion Attempts\", \n",
    "               \"Conversion Scored\",\n",
    "               \"Penalties Attempts\",\n",
    "               \"Penalties Scored\", \n",
    "               \"Points\",\n",
    "               \"Sin Bin\",\n",
    "               \"Rescinded\", \n",
    "               \"Red Card\"]\n",
    "\n",
    "index = 0\n",
    "for col in range(1, len(col_headers) + 1):\n",
    "    ws2.cell(1, col).value = col_headers[index]\n",
    "    index = index + 1\n",
    "\n",
    "wb.save('Kaggle.xlsx')"
   ]
  },
  {
   "cell_type": "code",
   "execution_count": 105,
   "metadata": {},
   "outputs": [],
   "source": [
    "# scrape player stats function\n",
    "def addPlayerDetails(player, row):\n",
    "    \n",
    "    titleList = []\n",
    "    statList = []\n",
    "\n",
    "    page = requests.get(player.getLink())\n",
    "    soup = BeautifulSoup(page.content, 'html.parser')\n",
    "    \n",
    "    menu = soup.find(class_='navMain')\n",
    "    titles = menu.find_all('a')\n",
    "    \n",
    "    for title in titles:\n",
    "        titleList.append(title['href'])\n",
    "    \n",
    "    statList = allTimeStats(titleList[3], player.getTeam())\n",
    "    \n",
    "    rounds = len(statList)//20\n",
    "    \n",
    "    index = 0\n",
    "    \n",
    "    for rod in range (0, rounds):\n",
    "        ws2.cell(row, 1).value = player.getName()\n",
    "        ws2.cell(row, 2).value = player.getTeam()\n",
    "        ws2.cell(row, 3).value = player.getPosition()\n",
    "        for col in range(4, 24):\n",
    "            ws2.cell(row, col).value = statList[index]\n",
    "            index = index + 1\n",
    "        for ws1_row in range(2, ws1.max_row + 1):\n",
    "            if (ws1.cell(ws1_row, 1).value == ws2.cell(row, 1).value):\n",
    "                if (ws1.cell(ws1_row, 12).value == ws2.cell(row, 2).value):\n",
    "                    if (ws1.cell(ws1_row, 13).value == ws2.cell(row, 4).value):\n",
    "                        row = row - 1\n",
    "        row = row + 1\n",
    "                   \n",
    "    return row"
   ]
  },
  {
   "cell_type": "code",
   "execution_count": 106,
   "metadata": {},
   "outputs": [],
   "source": [
    "# scrape all time player stats function\n",
    "\n",
    "def allTimeStats(link, team):\n",
    "    statList = []\n",
    "\n",
    "    page = requests.get(link)\n",
    "    soup = BeautifulSoup(page.content, 'html.parser')\n",
    "    \n",
    "    statValues = soup.find_all('td')\n",
    "\n",
    "    for statValue in statValues:\n",
    "        if (str(statValue.string).isdigit()):\n",
    "            statList.append(int(statValue.string))\n",
    "            \n",
    "    return statList"
   ]
  },
  {
   "cell_type": "code",
   "execution_count": null,
   "metadata": {
    "scrolled": false
   },
   "outputs": [],
   "source": [
    "# adding some player stats scrapped from starbunker to Players xl sheet\n",
    "\n",
    "row = 2\n",
    "\n",
    "for player in scrappedPlayerList:\n",
    "    row = addPlayerDetails(player, row)\n",
    "    wb.save('Kaggle.xlsx')\n",
    "\n",
    "print(\"Done\")"
   ]
  },
  {
   "cell_type": "code",
   "execution_count": null,
   "metadata": {},
   "outputs": [],
   "source": []
  }
 ],
 "metadata": {
  "kernelspec": {
   "display_name": "Python 3",
   "language": "python",
   "name": "python3"
  },
  "language_info": {
   "codemirror_mode": {
    "name": "ipython",
    "version": 3
   },
   "file_extension": ".py",
   "mimetype": "text/x-python",
   "name": "python",
   "nbconvert_exporter": "python",
   "pygments_lexer": "ipython3",
   "version": "3.8.5"
  }
 },
 "nbformat": 4,
 "nbformat_minor": 4
}
