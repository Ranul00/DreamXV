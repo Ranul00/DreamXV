{
 "cells": [
  {
   "cell_type": "code",
   "execution_count": 4,
   "metadata": {},
   "outputs": [],
   "source": [
    "import pandas as pd\n",
    "from sklearn.tree import DecisionTreeClassifier\n",
    "from sklearn.model_selection import train_test_split\n",
    "from sklearn.metrics import accuracy_score\n",
    "import openpyxl as xl\n",
    "import requests"
   ]
  },
  {
   "cell_type": "code",
   "execution_count": 5,
   "metadata": {},
   "outputs": [],
   "source": [
    "# Loading Players xl sheet 'Prediction Stats'\n",
    "\n",
    "df = pd.read_excel(\"Kaggle.xlsx\", \"Prediction Stats\", index_col=None, na_values=[\"NA\"])"
   ]
  },
  {
   "cell_type": "code",
   "execution_count": 17,
   "metadata": {},
   "outputs": [
    {
     "data": {
      "text/html": [
       "<div>\n",
       "<style scoped>\n",
       "    .dataframe tbody tr th:only-of-type {\n",
       "        vertical-align: middle;\n",
       "    }\n",
       "\n",
       "    .dataframe tbody tr th {\n",
       "        vertical-align: top;\n",
       "    }\n",
       "\n",
       "    .dataframe thead th {\n",
       "        text-align: right;\n",
       "    }\n",
       "</style>\n",
       "<table border=\"1\" class=\"dataframe\">\n",
       "  <thead>\n",
       "    <tr style=\"text-align: right;\">\n",
       "      <th></th>\n",
       "      <th>Minutes Played</th>\n",
       "      <th>Came On</th>\n",
       "      <th>Minutes as a Sub</th>\n",
       "      <th>Came Off</th>\n",
       "      <th>Tries</th>\n",
       "      <th>Points</th>\n",
       "    </tr>\n",
       "  </thead>\n",
       "  <tbody>\n",
       "    <tr>\n",
       "      <th>0</th>\n",
       "      <td>815</td>\n",
       "      <td>1</td>\n",
       "      <td>18</td>\n",
       "      <td>3</td>\n",
       "      <td>7</td>\n",
       "      <td>35</td>\n",
       "    </tr>\n",
       "    <tr>\n",
       "      <th>1</th>\n",
       "      <td>6466</td>\n",
       "      <td>19</td>\n",
       "      <td>554</td>\n",
       "      <td>13</td>\n",
       "      <td>27</td>\n",
       "      <td>135</td>\n",
       "    </tr>\n",
       "    <tr>\n",
       "      <th>2</th>\n",
       "      <td>80</td>\n",
       "      <td>0</td>\n",
       "      <td>0</td>\n",
       "      <td>0</td>\n",
       "      <td>1</td>\n",
       "      <td>5</td>\n",
       "    </tr>\n",
       "    <tr>\n",
       "      <th>3</th>\n",
       "      <td>77</td>\n",
       "      <td>1</td>\n",
       "      <td>39</td>\n",
       "      <td>1</td>\n",
       "      <td>0</td>\n",
       "      <td>0</td>\n",
       "    </tr>\n",
       "    <tr>\n",
       "      <th>4</th>\n",
       "      <td>7438</td>\n",
       "      <td>21</td>\n",
       "      <td>611</td>\n",
       "      <td>17</td>\n",
       "      <td>35</td>\n",
       "      <td>175</td>\n",
       "    </tr>\n",
       "    <tr>\n",
       "      <th>...</th>\n",
       "      <td>...</td>\n",
       "      <td>...</td>\n",
       "      <td>...</td>\n",
       "      <td>...</td>\n",
       "      <td>...</td>\n",
       "      <td>...</td>\n",
       "    </tr>\n",
       "    <tr>\n",
       "      <th>7177</th>\n",
       "      <td>353</td>\n",
       "      <td>0</td>\n",
       "      <td>0</td>\n",
       "      <td>2</td>\n",
       "      <td>1</td>\n",
       "      <td>5</td>\n",
       "    </tr>\n",
       "    <tr>\n",
       "      <th>7178</th>\n",
       "      <td>1107</td>\n",
       "      <td>6</td>\n",
       "      <td>153</td>\n",
       "      <td>8</td>\n",
       "      <td>4</td>\n",
       "      <td>20</td>\n",
       "    </tr>\n",
       "    <tr>\n",
       "      <th>7179</th>\n",
       "      <td>1919</td>\n",
       "      <td>36</td>\n",
       "      <td>582</td>\n",
       "      <td>12</td>\n",
       "      <td>4</td>\n",
       "      <td>20</td>\n",
       "    </tr>\n",
       "    <tr>\n",
       "      <th>7180</th>\n",
       "      <td>1649</td>\n",
       "      <td>7</td>\n",
       "      <td>122</td>\n",
       "      <td>16</td>\n",
       "      <td>2</td>\n",
       "      <td>10</td>\n",
       "    </tr>\n",
       "    <tr>\n",
       "      <th>7181</th>\n",
       "      <td>16353</td>\n",
       "      <td>105</td>\n",
       "      <td>1953</td>\n",
       "      <td>115</td>\n",
       "      <td>31</td>\n",
       "      <td>158</td>\n",
       "    </tr>\n",
       "  </tbody>\n",
       "</table>\n",
       "<p>7182 rows × 6 columns</p>\n",
       "</div>"
      ],
      "text/plain": [
       "      Minutes Played  Came On  Minutes as a Sub  Came Off  Tries  Points\n",
       "0                815        1                18         3      7      35\n",
       "1               6466       19               554        13     27     135\n",
       "2                 80        0                 0         0      1       5\n",
       "3                 77        1                39         1      0       0\n",
       "4               7438       21               611        17     35     175\n",
       "...              ...      ...               ...       ...    ...     ...\n",
       "7177             353        0                 0         2      1       5\n",
       "7178            1107        6               153         8      4      20\n",
       "7179            1919       36               582        12      4      20\n",
       "7180            1649        7               122        16      2      10\n",
       "7181           16353      105              1953       115     31     158\n",
       "\n",
       "[7182 rows x 6 columns]"
      ]
     },
     "execution_count": 17,
     "metadata": {},
     "output_type": "execute_result"
    }
   ],
   "source": [
    "# creating input dataset\n",
    "\n",
    "X = df.drop(columns = ['Name', 'Team','Position', 'Matches Selected', \n",
    "                       'Matches Started', 'Matches as a Sub', 'Captain',\n",
    "                       'Temporary Sub', 'Drop Goals', 'Conversion Attempts', \n",
    "                       'Conversion Scored', 'Penalties Attempts', 'Penalties Scored',\n",
    "                       'Sin Bin', 'Rescinded', 'Red Card','Matches Played'])\n",
    "\n",
    "X"
   ]
  },
  {
   "cell_type": "code",
   "execution_count": 31,
   "metadata": {},
   "outputs": [
    {
     "data": {
      "text/plain": [
       "0          Zac Mercer\n",
       "1          Zac Mercer\n",
       "2          Zac Mercer\n",
       "3          Zac Mercer\n",
       "4          Zac Mercer\n",
       "            ...      \n",
       "7177    Mike Phillips\n",
       "7178    Mike Phillips\n",
       "7179    Mike Phillips\n",
       "7180    Mike Phillips\n",
       "7181    Mike Phillips\n",
       "Name: Name, Length: 7182, dtype: object"
      ]
     },
     "execution_count": 31,
     "metadata": {},
     "output_type": "execute_result"
    }
   ],
   "source": [
    "# creating target dataset\n",
    "\n",
    "y = df['Position']\n",
    "y"
   ]
  },
  {
   "cell_type": "code",
   "execution_count": 8,
   "metadata": {},
   "outputs": [],
   "source": [
    "# loading Players xl sheet\n",
    "\n",
    "wb = xl.load_workbook('Kaggle.xlsx')\n",
    "ws1 = wb['Player Details']"
   ]
  },
  {
   "cell_type": "code",
   "execution_count": 9,
   "metadata": {},
   "outputs": [],
   "source": [
    "# Creating a model using decision tree algorithm\n",
    "\n",
    "model = DecisionTreeClassifier()"
   ]
  },
  {
   "cell_type": "code",
   "execution_count": 21,
   "metadata": {},
   "outputs": [
    {
     "name": "stdout",
     "output_type": "stream",
     "text": [
      "Accuracy = 74.66945024356298%\n"
     ]
    }
   ],
   "source": [
    "# training dataset and get the accuracy train 80% and test 20%\n",
    "\n",
    "X_train, X_test, y_train, y_test = train_test_split(X, y, test_size = 0.2)\n",
    "\n",
    "model = DecisionTreeClassifier()\n",
    "model.fit(X_train, y_train)\n",
    "acc_predictions = model.predict(X_test)\n",
    "acc_score = accuracy_score(y_test, acc_predictions) * 100\n",
    "print('Accuracy = ' + str(acc_score) + '%')"
   ]
  },
  {
   "cell_type": "code",
   "execution_count": 28,
   "metadata": {},
   "outputs": [
    {
     "name": "stdout",
     "output_type": "stream",
     "text": [
      "Accuracy = 55.33277638540797%\n"
     ]
    }
   ],
   "source": [
    "# training dataset and get the accuracy train 50% and test 50%\n",
    "\n",
    "X_train, X_test, y_train, y_test = train_test_split(X, y, test_size = 0.5)\n",
    "\n",
    "model = DecisionTreeClassifier()\n",
    "model.fit(X_train, y_train)\n",
    "acc_predictions = model.predict(X_test)\n",
    "acc_score = accuracy_score(y_test, acc_predictions) * 100\n",
    "print('Accuracy = ' + str(acc_score) + '%')"
   ]
  },
  {
   "cell_type": "code",
   "execution_count": 30,
   "metadata": {},
   "outputs": [
    {
     "name": "stdout",
     "output_type": "stream",
     "text": [
      "Accuracy = 36.16428820048729%\n"
     ]
    }
   ],
   "source": [
    "# training dataset and get the accuracy train 20% and test 80%\n",
    "\n",
    "X_train, X_test, y_train, y_test = train_test_split(X, y, test_size = 0.8)\n",
    "\n",
    "model = DecisionTreeClassifier()\n",
    "model.fit(X_train, y_train)\n",
    "acc_predictions = model.predict(X_test)\n",
    "acc_score = accuracy_score(y_test, acc_predictions) * 100\n",
    "print('Accuracy = ' + str(acc_score) + '%')"
   ]
  },
  {
   "cell_type": "code",
   "execution_count": 14,
   "metadata": {},
   "outputs": [
    {
     "name": "stdout",
     "output_type": "stream",
     "text": [
      "Done\n"
     ]
    }
   ],
   "source": [
    "# getting predition and store it in xl sheet function\n",
    "\n",
    "model = DecisionTreeClassifier()\n",
    "model.fit(X, y)\n",
    "\n",
    "ws1.cell(1, 33).value = \"Predicted Position\"\n",
    "\n",
    "for row in range(2, ws1.max_row + 1):\n",
    "    \n",
    "    predictions = model.predict([[\n",
    "            ws1.cell(row, 18).value,\n",
    "            ws1.cell(row, 19).value,\n",
    "            ws1.cell(row, 20).value,\n",
    "            ws1.cell(row, 22).value,\n",
    "            ws1.cell(row, 23).value,\n",
    "            ws1.cell(row, 28).value\n",
    "            ]])\n",
    "    ws1.cell(row, 33).value = predictions[0]\n",
    "        \n",
    "wb.save('Kaggle.xlsx')\n",
    "\n",
    "print(\"Done\")"
   ]
  },
  {
   "cell_type": "code",
   "execution_count": null,
   "metadata": {},
   "outputs": [],
   "source": []
  }
 ],
 "metadata": {
  "kernelspec": {
   "display_name": "Python 3",
   "language": "python",
   "name": "python3"
  },
  "language_info": {
   "codemirror_mode": {
    "name": "ipython",
    "version": 3
   },
   "file_extension": ".py",
   "mimetype": "text/x-python",
   "name": "python",
   "nbconvert_exporter": "python",
   "pygments_lexer": "ipython3",
   "version": "3.8.5"
  }
 },
 "nbformat": 4,
 "nbformat_minor": 4
}
