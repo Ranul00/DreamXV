{
 "cells": [
  {
   "cell_type": "code",
   "execution_count": 6,
   "metadata": {},
   "outputs": [],
   "source": [
    "import pandas as pd\n",
    "from sklearn.tree import DecisionTreeClassifier\n",
    "from sklearn.model_selection import train_test_split\n",
    "from sklearn.metrics import accuracy_score\n",
    "import openpyxl as xl\n",
    "import requests"
   ]
  },
  {
   "cell_type": "code",
   "execution_count": 7,
   "metadata": {},
   "outputs": [],
   "source": [
    "# Loading Players xl sheet 'Prediction Stats'\n",
    "\n",
    "df1 = pd.read_excel(\"Players.xlsx\", \"Prediction Stats\", index_col=None, na_values=[\"NA\"])"
   ]
  },
  {
   "cell_type": "code",
   "execution_count": 8,
   "metadata": {},
   "outputs": [],
   "source": [
    "# column checks\n",
    "\n",
    "df2 = df1[df1[\"MP\"] != \"-\"]\n",
    "\n",
    "df3 = df2[df2[\"MP\"] > 0]\n",
    "          \n",
    "df4 = df3[df3[\"Position\"] != \"-\"]\n",
    "\n",
    "df5 = df4[df4[\"Position No\"] != \"-\"]\n",
    "\n",
    "df6 = df5[df5[\"Height\"] != \"-\"] \n",
    "\n",
    "df7 = df6[df6[\"Weight\"] != \"-\"]"
   ]
  },
  {
   "cell_type": "code",
   "execution_count": 9,
   "metadata": {},
   "outputs": [],
   "source": [
    "# creating input dataset\n",
    "\n",
    "X = df7.drop(columns = ['Name', 'Position', 'Position No'])"
   ]
  },
  {
   "cell_type": "code",
   "execution_count": 10,
   "metadata": {},
   "outputs": [],
   "source": [
    "# creating target dataset\n",
    "\n",
    "y = df6['Position']"
   ]
  },
  {
   "cell_type": "code",
   "execution_count": 17,
   "metadata": {},
   "outputs": [
    {
     "name": "stdout",
     "output_type": "stream",
     "text": [
      "0.7101449275362319\n"
     ]
    }
   ],
   "source": [
    "# training dataset and get the accuracy\n",
    "\n",
    "X_train, X_test, y_train, y_test = train_test_split(X, y, test_size = 0.2)\n",
    "\n",
    "model1 = DecisionTreeClassifier()\n",
    "model1 .fit(X_train, y_train)\n",
    "predictions1 = model1.predict(X_test)\n",
    "score = accuracy_score(y_test, predictions1)\n",
    "print(score)"
   ]
  },
  {
   "cell_type": "code",
   "execution_count": 18,
   "metadata": {},
   "outputs": [],
   "source": [
    "# loading Players xl sheet\n",
    "\n",
    "wb1 = xl.load_workbook('Players.xlsx')\n",
    "ws1 = wb1['Player Details']\n",
    "ws2 = wb1['Player Stats']"
   ]
  },
  {
   "cell_type": "code",
   "execution_count": 20,
   "metadata": {},
   "outputs": [],
   "source": [
    "# getting predition and store it in xl sheet function\n",
    "\n",
    "model = DecisionTreeClassifier()\n",
    "model.fit(X, y)\n",
    "\n",
    "ws1.cell(1, 33).value = \"Predicted Position\"\n",
    "ws1.cell(1, 34).value = \"Predicted Position No\"\n",
    "\n",
    "for row in range(2, ws1.max_row + 1):\n",
    "    if (ws2.cell(row, 2).value != \"-\" and ws2.cell(row, 32).value != \"-\" and ws2.cell(row, 33).value != \"-\"):\n",
    "        predictions = model.predict([[\n",
    "            ws2.cell(row, 2).value,\n",
    "            ws2.cell(row, 3).value,\n",
    "            ws2.cell(row, 4).value,\n",
    "            ws2.cell(row, 5).value,\n",
    "            ws2.cell(row, 6).value,\n",
    "            ws2.cell(row, 7).value,\n",
    "            ws2.cell(row, 8).value,\n",
    "            ws2.cell(row, 9).value,\n",
    "            ws2.cell(row, 10).value,\n",
    "            ws2.cell(row, 11).value,\n",
    "            ws2.cell(row, 12).value,\n",
    "            ws2.cell(row, 13).value,\n",
    "            ws2.cell(row, 14).value,\n",
    "            ws2.cell(row, 15).value,\n",
    "            ws2.cell(row, 16).value,\n",
    "            ws2.cell(row, 17).value,\n",
    "            ws2.cell(row, 18).value,\n",
    "            ws2.cell(row, 19).value,\n",
    "            ws2.cell(row, 20).value,\n",
    "            ws2.cell(row, 21).value,\n",
    "            ws2.cell(row, 22).value,\n",
    "            ws2.cell(row, 23).value,\n",
    "            ws2.cell(row, 24).value,\n",
    "            ws2.cell(row, 25).value,\n",
    "            ws2.cell(row, 26).value,\n",
    "            ws2.cell(row, 27).value,\n",
    "            ws2.cell(row, 28).value,\n",
    "            ws2.cell(row, 29).value,\n",
    "            ws2.cell(row, 32).value,\n",
    "            ws2.cell(row, 33).value]])\n",
    "        ws1.cell(row, 33).value = predictions[0]\n",
    "        positionList = [\"Loose Head Prop\", \n",
    "                        \"Hooker\", \n",
    "                        \"Tight Head Prop\", \n",
    "                        \"Lock 4\", \n",
    "                        \"Lock 5\", \n",
    "                        \"Blindside Flanker\", \n",
    "                        \"Openside Flanker\", \n",
    "                        \"Number 8\", \n",
    "                        \"Scrum Half\", \n",
    "                        \"Fly Half\", \n",
    "                        \"Left Wing\", \n",
    "                        \"Inside Centre\", \n",
    "                        \"Outside Centre\", \n",
    "                        \"Right Wing\", \n",
    "                        \"Fullback\"]\n",
    "        positionNo = positionList.index(predictions[0]) + 1\n",
    "        ws1.cell(row, 34).value = positionNo\n",
    "        \n",
    "wb1.save('Players.xlsx')"
   ]
  },
  {
   "cell_type": "code",
   "execution_count": null,
   "metadata": {},
   "outputs": [],
   "source": []
  }
 ],
 "metadata": {
  "kernelspec": {
   "display_name": "Python 3",
   "language": "python",
   "name": "python3"
  },
  "language_info": {
   "codemirror_mode": {
    "name": "ipython",
    "version": 3
   },
   "file_extension": ".py",
   "mimetype": "text/x-python",
   "name": "python",
   "nbconvert_exporter": "python",
   "pygments_lexer": "ipython3",
   "version": "3.8.5"
  }
 },
 "nbformat": 4,
 "nbformat_minor": 4
}
