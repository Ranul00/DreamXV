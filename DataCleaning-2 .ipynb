{
 "cells": [
  {
   "cell_type": "code",
   "execution_count": 32,
   "metadata": {},
   "outputs": [],
   "source": [
    "import openpyxl as xl\n",
    "import requests"
   ]
  },
  {
   "cell_type": "code",
   "execution_count": 33,
   "metadata": {},
   "outputs": [],
   "source": [
    "# manually add a 'Prediction Stats' sheet on Players xl sheet"
   ]
  },
  {
   "cell_type": "code",
   "execution_count": 34,
   "metadata": {},
   "outputs": [],
   "source": [
    "# loading Players xl sheet\n",
    "\n",
    "wb1 = xl.load_workbook('Players.xlsx')\n",
    "ws1 = wb1['Player Details']\n",
    "ws2 = wb1['Player Stats']\n",
    "ws3 = wb1['Prediction Stats']"
   ]
  },
  {
   "cell_type": "code",
   "execution_count": 35,
   "metadata": {},
   "outputs": [],
   "source": [
    "# loading Stats xl sheet\n",
    "\n",
    "wb2 = xl.load_workbook('Stats.xlsx')\n",
    "ws19 = wb2['2019 Stats']\n",
    "ws20 = wb2['2020 Stats']\n",
    "ws21 = wb2['2021 Stats']"
   ]
  },
  {
   "cell_type": "code",
   "execution_count": 36,
   "metadata": {},
   "outputs": [],
   "source": [
    "# adding stat heads to 'Prediction Stats' sheet\n",
    "\n",
    "for col in range(1, ws19.max_column + 1):\n",
    "    ws3.cell(1, col).value = ws19.cell(1, col).value    \n",
    "    \n",
    "wb1.save('Players.xlsx')"
   ]
  },
  {
   "cell_type": "code",
   "execution_count": 37,
   "metadata": {},
   "outputs": [],
   "source": [
    "# add stats from Stats xl sheet to 'Prediction Stats' sheet function\n",
    "\n",
    "def ws3_addStats(ws1, ws3, ws_xx):\n",
    "    for row_ws1 in range(2, ws1.max_row + 1):\n",
    "        for ws_xx_row in range(2, ws_xx.max_row + 1):\n",
    "            if (ws1.cell(row_ws1, 1).value == ws_xx.cell(ws_xx_row, 1).value):\n",
    "                ws3_row = ws3.max_row + 1\n",
    "                ws3.cell(ws3_row, 1).value = ws1.cell(row_ws1, 1).value\n",
    "                for col in range(2, ws3.max_column + 1):\n",
    "                    ws3.cell(ws3_row, col).value = ws_xx.cell(ws_xx_row, col).value\n",
    "\n",
    "    wb1.save('Players.xlsx')"
   ]
  },
  {
   "cell_type": "code",
   "execution_count": 38,
   "metadata": {},
   "outputs": [],
   "source": [
    "# adding stats from Stats xl sheet to 'Prediction Stats' sheet function\n",
    "\n",
    "ws3_addStats(ws1, ws3, ws19)\n",
    "ws3_addStats(ws1, ws3, ws20)\n",
    "ws3_addStats(ws1, ws3, ws21)"
   ]
  },
  {
   "cell_type": "code",
   "execution_count": 39,
   "metadata": {},
   "outputs": [],
   "source": [
    "ws3_columns = ws3.max_column\n",
    "\n",
    "# adding new heads to 'Prediction Stats' sheet\n",
    "\n",
    "ws3.cell(1, ws3.max_column + 1).value = \"Position\"\n",
    "ws3.cell(1, ws3.max_column + 1).value = \"Position No\"\n",
    "ws3.cell(1, ws3.max_column + 1).value = \"Height\"\n",
    "ws3.cell(1, ws3.max_column + 1).value = \"Weight\"\n",
    "\n",
    "wb1.save('Players.xlsx')"
   ]
  },
  {
   "cell_type": "code",
   "execution_count": 40,
   "metadata": {},
   "outputs": [],
   "source": [
    "# add from \"Player Details\" sheet to 'Prediction Stats' sheet function\n",
    "\n",
    "def ws3_addDetails(ws1_col, ws3_col):\n",
    "    for row_ws1 in range(2, ws1.max_row + 1):\n",
    "        for ws3_row in range(2, ws3.max_row + 1):\n",
    "            if (ws1.cell(row_ws1, 1).value == ws3.cell(ws3_row, 1).value):\n",
    "                ws3.cell(ws3_row, ws3_col).value = ws1.cell(row_ws1, ws1_col).value\n",
    "\n",
    "    wb1.save('Players.xlsx')"
   ]
  },
  {
   "cell_type": "code",
   "execution_count": 41,
   "metadata": {},
   "outputs": [],
   "source": [
    "# adding player position column from 'Player Details' sheet to 'Prediction Stats' sheet\n",
    "\n",
    "ws3_addDetails(5, ws3_columns + 1)"
   ]
  },
  {
   "cell_type": "code",
   "execution_count": 42,
   "metadata": {},
   "outputs": [],
   "source": [
    "# adding player position no. column from 'Player Details' sheet to 'Prediction Stats' sheet\n",
    "\n",
    "ws3_addDetails(6, ws3_columns + 2)"
   ]
  },
  {
   "cell_type": "code",
   "execution_count": 43,
   "metadata": {},
   "outputs": [],
   "source": [
    "# adding player height column from 'Player Details' sheet to 'Prediction Stats' sheet\n",
    "\n",
    "ws3_addDetails(7, ws3_columns + 3)"
   ]
  },
  {
   "cell_type": "code",
   "execution_count": 44,
   "metadata": {},
   "outputs": [],
   "source": [
    "# adding player weight column from 'Player Details' sheet to 'Prediction Stats' sheet\n",
    "\n",
    "ws3_addDetails(8, ws3_columns + 4)"
   ]
  },
  {
   "cell_type": "code",
   "execution_count": 45,
   "metadata": {},
   "outputs": [],
   "source": [
    "# adding stats from 'Player Stats' sheet to 'Prediction Stats' sheet function\n",
    "\n",
    "ws3_addStats(ws1, ws3, ws2)"
   ]
  },
  {
   "cell_type": "code",
   "execution_count": 46,
   "metadata": {},
   "outputs": [],
   "source": [
    "# adding stats from 'Player Stats' sheet to 'Prediction Stats' sheet function\n",
    "\n",
    "ws3_addStats(ws1, ws3, ws2)"
   ]
  }
 ],
 "metadata": {
  "kernelspec": {
   "display_name": "Python 3",
   "language": "python",
   "name": "python3"
  },
  "language_info": {
   "codemirror_mode": {
    "name": "ipython",
    "version": 3
   },
   "file_extension": ".py",
   "mimetype": "text/x-python",
   "name": "python",
   "nbconvert_exporter": "python",
   "pygments_lexer": "ipython3",
   "version": "3.8.5"
  }
 },
 "nbformat": 4,
 "nbformat_minor": 4
}
