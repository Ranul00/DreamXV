{
 "cells": [
  {
   "cell_type": "code",
   "execution_count": 3,
   "metadata": {},
   "outputs": [],
   "source": [
    "import openpyxl as xl\n",
    "import requests \n",
    "from bs4 import BeautifulSoup\n"
   ]
  },
  {
   "cell_type": "code",
   "execution_count": 1,
   "metadata": {},
   "outputs": [],
   "source": [
    "# def scrapePlayers():\n",
    "#     playerList = []\n",
    "\n",
    "#     page = requests.get('https://index.rugbypass.com/rpi/six-nations/all/all/7-days/high-to-low/players/')\n",
    "#     content = BeautifulSoup(page.content, 'html.parser')\n",
    "#     players = content.find_all(class_='player-bar')\n",
    "#     for p in players:\n",
    "#         newPlayer = PlayerHead(p.find(class_='name').string, p.find(class_='display-score').string, p['href'],\n",
    "#                            p.find('img')['src'])\n",
    "#         playerList.append(newPlayer)\n",
    "#     return playerList\n",
    "\n",
    "\n",
    "# for x in scrapePlayers():\n",
    "#     print(x.getImg())"
   ]
  },
  {
   "cell_type": "code",
   "execution_count": 2,
   "metadata": {},
   "outputs": [],
   "source": [
    "# def scrapeDetails(link):\n",
    "#     page = requests.get(link)\n",
    "#     content = BeautifulSoup(page.content, 'html.parser')\n",
    "#     pos = content.find(class_='positions').string[1:-1]\n",
    "\n",
    "#     measurements = content.find_all(class_='measurement')\n",
    "\n",
    "#     height = 0\n",
    "\n",
    "#     weight = 0\n",
    "\n",
    "#     day = 0\n",
    "\n",
    "#     month = \"\"\n",
    "\n",
    "#     year = 0\n",
    "\n",
    "#     for m in measurements:\n",
    "#         if ('divHeightdiv' in m.get_text('div')):\n",
    "#             height = m.get_text('div')[14:]\n",
    "\n",
    "#         elif ('divWeightdiv' in m.get_text('div')):\n",
    "#             weight = m.get_text('div')[14:]\n",
    "\n",
    "#         elif ('divDOBdiv' in m.get_text('div')):\n",
    "#             day = int(m.get_text('div')[11:13])\n",
    "#             month = m.get_text('div')[14:17]\n",
    "#             year = int(m.get_text('div')[18:22])\n",
    "\n",
    "#     teams = content.find_all(class_='player-team')\n",
    "\n",
    "#     team = \"\"\n",
    "\n",
    "#     for t in teams:\n",
    "#         if (\"England\" in t.get_text()):\n",
    "#             team = \"England\"\n",
    "\n",
    "#         elif (\"France\" in t.get_text()):\n",
    "#             team = \"France\"\n",
    "\n",
    "#         elif (\"Ireland\" in t.get_text()):\n",
    "#             team = \"Ireland\"\n",
    "\n",
    "#         elif (\"Italy\" in t.get_text()):\n",
    "#             team = \"Italy\"\n",
    "\n",
    "#         elif (\"Scotland\" in t.get_text()):\n",
    "#             team = \"Scotland\"\n",
    "\n",
    "#         elif (\"Wales\" in t.get_text()):\n",
    "#             team = \"Wales\"\n",
    "\n",
    "#     dob = Date(day, month, year)\n",
    "\n",
    "#     playerDeails = PlayerDetails(pos, height, weight, dob, team)\n",
    "\n",
    "#     return playerDeails"
   ]
  }
 ],
 "metadata": {
  "kernelspec": {
   "display_name": "Python 3",
   "language": "python",
   "name": "python3"
  },
  "language_info": {
   "codemirror_mode": {
    "name": "ipython",
    "version": 3
   },
   "file_extension": ".py",
   "mimetype": "text/x-python",
   "name": "python",
   "nbconvert_exporter": "python",
   "pygments_lexer": "ipython3",
   "version": "3.8.5"
  }
 },
 "nbformat": 4,
 "nbformat_minor": 4
}
