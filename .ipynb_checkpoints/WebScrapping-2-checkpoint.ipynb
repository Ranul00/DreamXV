{
 "cells": [
  {
   "cell_type": "code",
   "execution_count": 13,
   "metadata": {},
   "outputs": [],
   "source": [
    "import openpyxl as xl\n",
    "import requests \n",
    "from bs4 import BeautifulSoup"
   ]
  },
  {
   "cell_type": "code",
   "execution_count": 14,
   "metadata": {},
   "outputs": [],
   "source": [
    "class Player:    \n",
    "    def __init__(self, name, link, team):\n",
    "        self.name = name\n",
    "        self.link = link\n",
    "        self.team = team\n",
    "    \n",
    "    def getName(self):\n",
    "        return self.name\n",
    "\n",
    "    def getLink(self):\n",
    "        return self.link\n",
    "    \n",
    "    def getTeam(self):\n",
    "        return self.team"
   ]
  },
  {
   "cell_type": "code",
   "execution_count": 15,
   "metadata": {},
   "outputs": [],
   "source": [
    "# player scrape from starbunker 6 nation team function\n",
    "\n",
    "def scrapePlayers(link,team):\n",
    "    \n",
    "    playersList = []\n",
    "\n",
    "    page = requests.get(link)\n",
    "    soup = BeautifulSoup(page.content, 'html.parser')\n",
    "    \n",
    "    playerClass = soup.find(class_='hozList')\n",
    "    players = playerClass.find_all('a')\n",
    "    \n",
    "    for p in players:\n",
    "        playersList.append(Player(p.find('p').string, p['href'], team))\n",
    "        \n",
    "    return playersList\n"
   ]
  },
  {
   "cell_type": "code",
   "execution_count": 16,
   "metadata": {},
   "outputs": [],
   "source": [
    "# list for scrapped players from web\n",
    "\n",
    "scrappedPlayerList = []\n",
    "\n",
    "scrappedPlayerList21 = []\n",
    "scrappedPlayerList20 = []\n",
    "scrappedPlayerList19 = []"
   ]
  },
  {
   "cell_type": "code",
   "execution_count": 17,
   "metadata": {},
   "outputs": [],
   "source": [
    "# players adding to scarppedPlayerList function\n",
    "\n",
    "def playersAddToSPL(playerList, scrapeList):\n",
    "    for player in playerList:\n",
    "        scrapeList.append(player)"
   ]
  },
  {
   "cell_type": "code",
   "execution_count": 18,
   "metadata": {},
   "outputs": [
    {
     "name": "stdout",
     "output_type": "stream",
     "text": [
      "736\n",
      "Done\n"
     ]
    }
   ],
   "source": [
    "#  adding players to scarppedPlayerList21\n",
    "\n",
    "playersAddToSPL(scrapePlayers('https://rugby.statbunker.com/competitions/getCompClubSquad?comp_id=653&club_id=116', 'England'), scrappedPlayerList21)\n",
    "playersAddToSPL(scrapePlayers('https://rugby.statbunker.com/competitions/getCompClubSquad?comp_id=653&club_id=120', 'France'), scrappedPlayerList21)\n",
    "playersAddToSPL(scrapePlayers('https://rugby.statbunker.com/competitions/getCompClubSquad?comp_id=653&club_id=119', 'Ireland'), scrappedPlayerList21)\n",
    "playersAddToSPL(scrapePlayers('https://rugby.statbunker.com/competitions/getCompClubSquad?comp_id=653&club_id=122', 'Italy'), scrappedPlayerList21)\n",
    "playersAddToSPL(scrapePlayers('https://rugby.statbunker.com/competitions/getCompClubSquad?comp_id=653&club_id=118', 'Scotland'), scrappedPlayerList21)\n",
    "playersAddToSPL(scrapePlayers('https://rugby.statbunker.com/competitions/getCompClubSquad?comp_id=653&club_id=117', 'Wales'), scrappedPlayerList21)\n",
    "\n",
    "playerCount21 = 1\n",
    "for player in scrappedPlayerList21:\n",
    "    playerCount21 += 1\n",
    "print(playerCount21)\n",
    "\n",
    "print(\"Done\")"
   ]
  },
  {
   "cell_type": "code",
   "execution_count": 19,
   "metadata": {},
   "outputs": [
    {
     "name": "stdout",
     "output_type": "stream",
     "text": [
      "682\n",
      "Done\n"
     ]
    }
   ],
   "source": [
    "#  adding players to scarppedPlayerList20\n",
    "\n",
    "playersAddToSPL(scrapePlayers('https://rugby.statbunker.com/competitions/getCompClubSquad?club_id=116&comp_id=622', 'England'), scrappedPlayerList20)\n",
    "playersAddToSPL(scrapePlayers('https://rugby.statbunker.com/competitions/getCompClubSquad?club_id=120&comp_id=622', 'France'), scrappedPlayerList20)\n",
    "playersAddToSPL(scrapePlayers('https://rugby.statbunker.com/competitions/getCompClubSquad?club_id=119&comp_id=622', 'Ireland'), scrappedPlayerList20)\n",
    "playersAddToSPL(scrapePlayers('https://rugby.statbunker.com/competitions/getCompClubSquad?club_id=122&comp_id=622', 'Italy'), scrappedPlayerList20)\n",
    "playersAddToSPL(scrapePlayers('https://rugby.statbunker.com/competitions/getCompClubSquad?club_id=118&comp_id=622', 'Scotland'), scrappedPlayerList20)\n",
    "playersAddToSPL(scrapePlayers('https://rugby.statbunker.com/competitions/getCompClubSquad?club_id=117&comp_id=622', 'Wales'), scrappedPlayerList20)\n",
    "\n",
    "playerCount20 = 1\n",
    "for player in scrappedPlayerList20:\n",
    "    playerCount20 += 1\n",
    "print(playerCount20)\n",
    "\n",
    "print(\"Done\")"
   ]
  },
  {
   "cell_type": "code",
   "execution_count": 20,
   "metadata": {},
   "outputs": [
    {
     "name": "stdout",
     "output_type": "stream",
     "text": [
      "644\n",
      "Done\n"
     ]
    }
   ],
   "source": [
    "#  adding players to scarppedPlayerList19\n",
    "\n",
    "playersAddToSPL(scrapePlayers('https://rugby.statbunker.com/competitions/getCompClubSquad?club_id=116&comp_id=595', 'England'), scrappedPlayerList19)\n",
    "playersAddToSPL(scrapePlayers('https://rugby.statbunker.com/competitions/getCompClubSquad?club_id=120&comp_id=595', 'France'), scrappedPlayerList19)\n",
    "playersAddToSPL(scrapePlayers('https://rugby.statbunker.com/competitions/getCompClubSquad?club_id=119&comp_id=595', 'Ireland'), scrappedPlayerList19)\n",
    "playersAddToSPL(scrapePlayers('https://rugby.statbunker.com/competitions/getCompClubSquad?club_id=122&comp_id=595', 'Italy'), scrappedPlayerList19)\n",
    "playersAddToSPL(scrapePlayers('https://rugby.statbunker.com/competitions/getCompClubSquad?club_id=118&comp_id=595', 'Scotland'), scrappedPlayerList19)\n",
    "playersAddToSPL(scrapePlayers('https://rugby.statbunker.com/competitions/getCompClubSquad?club_id=117&comp_id=595', 'Wales'), scrappedPlayerList19)\n",
    "\n",
    "playerCount19 = 1\n",
    "for player in scrappedPlayerList19:\n",
    "    playerCount19 += 1\n",
    "print(playerCount19)\n",
    "\n",
    "print(\"Done\")"
   ]
  },
  {
   "cell_type": "code",
   "execution_count": 21,
   "metadata": {},
   "outputs": [],
   "source": [
    "# players adding to scrappedPlayerList list function\n",
    "\n",
    "def addToML(mainList, compList):\n",
    "    \n",
    "    list1 = mainList\n",
    "    list2 = []\n",
    "    \n",
    "    for player in compList:\n",
    "        list2.append(player)\n",
    "    \n",
    "    for player1 in list1:\n",
    "        count = 0\n",
    "        for player2 in list2:\n",
    "            if (player1.getName() == player2.getName()):\n",
    "                if (player1.getTeam() == player2.getTeam()):\n",
    "                    list2.remove(player2)\n",
    "    \n",
    "    for player in list2:\n",
    "        list1.append(player)\n",
    "        \n",
    "    mainList = list1"
   ]
  },
  {
   "cell_type": "code",
   "execution_count": 22,
   "metadata": {},
   "outputs": [
    {
     "name": "stdout",
     "output_type": "stream",
     "text": [
      "741\n",
      "Done\n"
     ]
    }
   ],
   "source": [
    "# adding to scrappedPlayerList list\n",
    "\n",
    "addToML(scrappedPlayerList, scrappedPlayerList21)\n",
    "addToML(scrappedPlayerList, scrappedPlayerList20)\n",
    "addToML(scrappedPlayerList, scrappedPlayerList19)\n",
    "\n",
    "playerCount = 1\n",
    "for player in scrappedPlayerList:\n",
    "    playerCount += 1\n",
    "print(playerCount)\n",
    "print(\"Done\")"
   ]
  },
  {
   "cell_type": "code",
   "execution_count": 23,
   "metadata": {},
   "outputs": [
    {
     "name": "stdout",
     "output_type": "stream",
     "text": [
      "12\n",
      "Done\n"
     ]
    }
   ],
   "source": [
    "# loading Players xl sheet\n",
    "\n",
    "wb = xl.load_workbook('Players.xlsx')\n",
    "ws = wb['Player Details']\n",
    "\n",
    "columns = ws.max_column\n",
    "print(columns)\n",
    "\n",
    "print(\"Done\")"
   ]
  },
  {
   "cell_type": "code",
   "execution_count": 24,
   "metadata": {},
   "outputs": [
    {
     "name": "stdout",
     "output_type": "stream",
     "text": [
      "Done\n"
     ]
    }
   ],
   "source": [
    "# adding new column headers to Players xl sheet\n",
    "\n",
    "col_headers = [\"Matches Played\", \n",
    "          \"Matches Selected\", \n",
    "          \"Matches Started\", \n",
    "          \"Matches as a Sub\", \n",
    "          \"Captain\", \n",
    "          \"Minutes Played\", \n",
    "          \"Came On\", \n",
    "          \"Minutes as a Sub\",\n",
    "          \"Temporary Sub\", \n",
    "          \"Came Off\", \n",
    "          \"Tries\", \n",
    "          \"Drop Goals\", \n",
    "          \"Conversion Attempts\", \n",
    "          \"Conversion Scored\", \n",
    "          \"Penalties Attempts\", \n",
    "          \"Penalties Scored\", \n",
    "          \"Points\", \n",
    "          \"Sin Bin\", \n",
    "          \"Rescinded\", \n",
    "          \"Red Card\"]\n",
    "\n",
    "index = 0\n",
    "for col in range(columns + 1, columns + 1 + len(col_headers)):\n",
    "    ws.cell(1, col).value = col_headers[index]\n",
    "    index = index + 1\n",
    "\n",
    "wb.save('Players.xlsx')\n",
    "\n",
    "print(\"Done\")"
   ]
  },
  {
   "cell_type": "code",
   "execution_count": null,
   "metadata": {},
   "outputs": [],
   "source": []
  }
 ],
 "metadata": {
  "kernelspec": {
   "display_name": "Python 3",
   "language": "python",
   "name": "python3"
  },
  "language_info": {
   "codemirror_mode": {
    "name": "ipython",
    "version": 3
   },
   "file_extension": ".py",
   "mimetype": "text/x-python",
   "name": "python",
   "nbconvert_exporter": "python",
   "pygments_lexer": "ipython3",
   "version": "3.8.5"
  }
 },
 "nbformat": 4,
 "nbformat_minor": 4
}
