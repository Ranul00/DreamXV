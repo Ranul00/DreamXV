{
 "cells": [
  {
   "cell_type": "code",
   "execution_count": 5,
   "metadata": {},
   "outputs": [],
   "source": [
    "import openpyxl as xl\n",
    "import requests \n",
    "from bs4 import BeautifulSoup"
   ]
  },
  {
   "cell_type": "code",
   "execution_count": 6,
   "metadata": {},
   "outputs": [],
   "source": [
    "class Player:    \n",
    "    def __init__(self, name, link, team):\n",
    "        self.name = name\n",
    "        self.link = link\n",
    "        self.team = team\n",
    "    \n",
    "    def getName(self):\n",
    "        return self.name\n",
    "\n",
    "    def getLink(self):\n",
    "        return self.link\n",
    "    \n",
    "    def getTeam(self):\n",
    "        return self.team"
   ]
  },
  {
   "cell_type": "code",
   "execution_count": 7,
   "metadata": {},
   "outputs": [],
   "source": [
    "# player scrape from starbunker 6 nation team function\n",
    "\n",
    "def scrapePlayers(link,team):\n",
    "    \n",
    "    playersList = []\n",
    "\n",
    "    page = requests.get(link)\n",
    "    soup = BeautifulSoup(page.content, 'html.parser')\n",
    "    \n",
    "    playerClass = soup.find(class_='hozList')\n",
    "    players = playerClass.find_all('a')\n",
    "    \n",
    "    for p in players:\n",
    "        playersList.append(Player(p.find('p').string, p['href'], team))\n",
    "        \n",
    "    return playersList\n"
   ]
  },
  {
   "cell_type": "code",
   "execution_count": 8,
   "metadata": {},
   "outputs": [],
   "source": [
    "# list for scrapped players from web\n",
    "\n",
    "scrappedPlayerList = []\n",
    "\n",
    "scrappedPlayerList21 = []\n",
    "scrappedPlayerList20 = []\n",
    "scrappedPlayerList19 = []"
   ]
  },
  {
   "cell_type": "code",
   "execution_count": 9,
   "metadata": {},
   "outputs": [],
   "source": [
    "# players adding to scarppedPlayerList function\n",
    "\n",
    "def playersAddToSPL(playerList, scrapeList):\n",
    "    for player in playerList:\n",
    "        scrapeList.append(player)"
   ]
  },
  {
   "cell_type": "code",
   "execution_count": 10,
   "metadata": {},
   "outputs": [
    {
     "name": "stdout",
     "output_type": "stream",
     "text": [
      "736\n",
      "Done\n"
     ]
    }
   ],
   "source": [
    "#  adding players to scarppedPlayerList21\n",
    "\n",
    "playersAddToSPL(scrapePlayers('https://rugby.statbunker.com/competitions/getCompClubSquad?comp_id=653&club_id=116', 'England'), scrappedPlayerList21)\n",
    "playersAddToSPL(scrapePlayers('https://rugby.statbunker.com/competitions/getCompClubSquad?comp_id=653&club_id=120', 'France'), scrappedPlayerList21)\n",
    "playersAddToSPL(scrapePlayers('https://rugby.statbunker.com/competitions/getCompClubSquad?comp_id=653&club_id=119', 'Ireland'), scrappedPlayerList21)\n",
    "playersAddToSPL(scrapePlayers('https://rugby.statbunker.com/competitions/getCompClubSquad?comp_id=653&club_id=122', 'Italy'), scrappedPlayerList21)\n",
    "playersAddToSPL(scrapePlayers('https://rugby.statbunker.com/competitions/getCompClubSquad?comp_id=653&club_id=118', 'Scotland'), scrappedPlayerList21)\n",
    "playersAddToSPL(scrapePlayers('https://rugby.statbunker.com/competitions/getCompClubSquad?comp_id=653&club_id=117', 'Wales'), scrappedPlayerList21)\n",
    "\n",
    "playerCount21 = 1\n",
    "for player in scrappedPlayerList21:\n",
    "    playerCount21 += 1\n",
    "print(playerCount21)\n",
    "\n",
    "print(\"Done\")"
   ]
  },
  {
   "cell_type": "code",
   "execution_count": 15,
   "metadata": {},
   "outputs": [
    {
     "name": "stdout",
     "output_type": "stream",
     "text": [
      "682\n",
      "Done\n"
     ]
    }
   ],
   "source": [
    "#  adding players to scarppedPlayerList20\n",
    "\n",
    "playersAddToSPL(scrapePlayers('https://rugby.statbunker.com/competitions/getCompClubSquad?club_id=116&comp_id=622', 'England'), scrappedPlayerList20)\n",
    "playersAddToSPL(scrapePlayers('https://rugby.statbunker.com/competitions/getCompClubSquad?club_id=120&comp_id=622', 'France'), scrappedPlayerList20)\n",
    "playersAddToSPL(scrapePlayers('https://rugby.statbunker.com/competitions/getCompClubSquad?club_id=119&comp_id=622', 'Ireland'), scrappedPlayerList20)\n",
    "playersAddToSPL(scrapePlayers('https://rugby.statbunker.com/competitions/getCompClubSquad?club_id=122&comp_id=622', 'Italy'), scrappedPlayerList20)\n",
    "playersAddToSPL(scrapePlayers('https://rugby.statbunker.com/competitions/getCompClubSquad?club_id=118&comp_id=622', 'Scotland'), scrappedPlayerList20)\n",
    "playersAddToSPL(scrapePlayers('https://rugby.statbunker.com/competitions/getCompClubSquad?club_id=117&comp_id=622', 'Wales'), scrappedPlayerList20)\n",
    "\n",
    "playerCount20 = 1\n",
    "for player in scrappedPlayerList20:\n",
    "    playerCount20 += 1\n",
    "print(playerCount20)\n",
    "\n",
    "print(\"Done\")"
   ]
  },
  {
   "cell_type": "code",
   "execution_count": 16,
   "metadata": {},
   "outputs": [
    {
     "name": "stdout",
     "output_type": "stream",
     "text": [
      "644\n",
      "Done\n"
     ]
    }
   ],
   "source": [
    "#  adding players to scarppedPlayerList19\n",
    "\n",
    "playersAddToSPL(scrapePlayers('https://rugby.statbunker.com/competitions/getCompClubSquad?club_id=116&comp_id=595', 'England'), scrappedPlayerList19)\n",
    "playersAddToSPL(scrapePlayers('https://rugby.statbunker.com/competitions/getCompClubSquad?club_id=120&comp_id=595', 'France'), scrappedPlayerList19)\n",
    "playersAddToSPL(scrapePlayers('https://rugby.statbunker.com/competitions/getCompClubSquad?club_id=119&comp_id=595', 'Ireland'), scrappedPlayerList19)\n",
    "playersAddToSPL(scrapePlayers('https://rugby.statbunker.com/competitions/getCompClubSquad?club_id=122&comp_id=595', 'Italy'), scrappedPlayerList19)\n",
    "playersAddToSPL(scrapePlayers('https://rugby.statbunker.com/competitions/getCompClubSquad?club_id=118&comp_id=595', 'Scotland'), scrappedPlayerList19)\n",
    "playersAddToSPL(scrapePlayers('https://rugby.statbunker.com/competitions/getCompClubSquad?club_id=117&comp_id=595', 'Wales'), scrappedPlayerList19)\n",
    "\n",
    "playerCount19 = 1\n",
    "for player in scrappedPlayerList19:\n",
    "    playerCount19 += 1\n",
    "print(playerCount19)\n",
    "\n",
    "print(\"Done\")"
   ]
  },
  {
   "cell_type": "code",
   "execution_count": 13,
   "metadata": {},
   "outputs": [],
   "source": [
    "# players adding to scrappedPlayerList list function\n",
    "\n"
   ]
  },
  {
   "cell_type": "code",
   "execution_count": 14,
   "metadata": {},
   "outputs": [],
   "source": [
    "# adding to scrappedPlayerList list\n",
    "\n"
   ]
  },
  {
   "cell_type": "code",
   "execution_count": null,
   "metadata": {},
   "outputs": [],
   "source": []
  }
 ],
 "metadata": {
  "kernelspec": {
   "display_name": "Python 3",
   "language": "python",
   "name": "python3"
  },
  "language_info": {
   "codemirror_mode": {
    "name": "ipython",
    "version": 3
   },
   "file_extension": ".py",
   "mimetype": "text/x-python",
   "name": "python",
   "nbconvert_exporter": "python",
   "pygments_lexer": "ipython3",
   "version": "3.8.5"
  }
 },
 "nbformat": 4,
 "nbformat_minor": 4
}
