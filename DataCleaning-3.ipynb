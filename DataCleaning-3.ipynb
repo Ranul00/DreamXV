{
 "cells": [
  {
   "cell_type": "code",
   "execution_count": 1,
   "metadata": {},
   "outputs": [],
   "source": [
    "import openpyxl as xl\n",
    "import requests"
   ]
  },
  {
   "cell_type": "code",
   "execution_count": 2,
   "metadata": {},
   "outputs": [],
   "source": [
    "# loading Players xl sheet\n",
    "wb1 = xl.load_workbook('Players.xlsx')\n",
    "ws1 = wb1['Player Details']\n",
    "ws2 = wb1['Player Stats']\n",
    "ws3 = wb1['Prediction Stats']"
   ]
  },
  {
   "cell_type": "code",
   "execution_count": 4,
   "metadata": {},
   "outputs": [],
   "source": [
    "# fill Players xl sheet blank cells with - function\n",
    "\n",
    "def blankReplace(ws):\n",
    "    for row in range(2, ws.max_row + 1):\n",
    "        for col in range(1, ws.max_column + 1):\n",
    "            if(ws.cell(row, col).value  == None):\n",
    "                ws.cell(row, col).value = 0\n",
    "\n",
    "    wb1.save('Players.xlsx')"
   ]
  },
  {
   "cell_type": "code",
   "execution_count": 5,
   "metadata": {},
   "outputs": [],
   "source": [
    "# filling Players xl sheet blank cells with - function\n",
    "\n",
    "blankReplace(ws1)\n",
    "blankReplace(ws2)\n",
    "blankReplace(ws3)"
   ]
  },
  {
   "cell_type": "code",
   "execution_count": null,
   "metadata": {},
   "outputs": [],
   "source": []
  }
 ],
 "metadata": {
  "kernelspec": {
   "display_name": "Python 3",
   "language": "python",
   "name": "python3"
  },
  "language_info": {
   "codemirror_mode": {
    "name": "ipython",
    "version": 3
   },
   "file_extension": ".py",
   "mimetype": "text/x-python",
   "name": "python",
   "nbconvert_exporter": "python",
   "pygments_lexer": "ipython3",
   "version": "3.8.5"
  }
 },
 "nbformat": 4,
 "nbformat_minor": 4
}
