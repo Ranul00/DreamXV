{
 "cells": [
  {
   "cell_type": "code",
   "execution_count": 1,
   "metadata": {},
   "outputs": [],
   "source": [
    "import openpyxl as xl\n",
    "import requests"
   ]
  },
  {
   "cell_type": "code",
   "execution_count": 2,
   "metadata": {},
   "outputs": [],
   "source": [
    "# manually add a 'Player Stats' sheet on Players xl sheet"
   ]
  },
  {
   "cell_type": "code",
   "execution_count": 3,
   "metadata": {},
   "outputs": [],
   "source": [
    "# loading Players xl sheet\n",
    "\n",
    "wb1 = xl.load_workbook('Players.xlsx')\n",
    "ws1 = wb1['Player Details']\n",
    "ws2 = wb1['Player Stats']"
   ]
  },
  {
   "cell_type": "code",
   "execution_count": 4,
   "metadata": {},
   "outputs": [],
   "source": [
    "# add columns of data from 'Player Details' sheet to 'Player Stats' sheet function\n",
    "\n",
    "def ws2_addColumn(ws1_col, ws2_col):\n",
    "    for row in range(1, ws1.max_row + 1):\n",
    "        ws2.cell(row, ws2_col).value = ws1.cell(row, ws1_col).value\n",
    "\n",
    "    wb1.save('Players.xlsx')"
   ]
  },
  {
   "cell_type": "code",
   "execution_count": 5,
   "metadata": {},
   "outputs": [],
   "source": [
    "# adding player names column from 'Player Details' sheet to 'Player Stats sheet'\n",
    "\n",
    "ws2_addColumn(1, 1)"
   ]
  },
  {
   "cell_type": "code",
   "execution_count": 6,
   "metadata": {},
   "outputs": [],
   "source": [
    "# loading Stats xl sheet\n",
    "\n",
    "wb2 = xl.load_workbook('Stats.xlsx')\n",
    "ws19 = wb2['2019 Stats']\n",
    "ws20 = wb2['2020 Stats']\n",
    "ws21 = wb2['2021 Stats']"
   ]
  },
  {
   "cell_type": "code",
   "execution_count": 7,
   "metadata": {},
   "outputs": [],
   "source": [
    "# adding stat heads to 'Player Stats' sheet\n",
    "\n",
    "for col in range(2, ws19.max_column + 1):\n",
    "    ws2.cell(1, col).value = ws19.cell(1, col).value    \n",
    "    \n",
    "wb1.save('Players.xlsx')"
   ]
  },
  {
   "cell_type": "code",
   "execution_count": 8,
   "metadata": {},
   "outputs": [],
   "source": [
    "# add stats from Stats xl sheet to 'Player Stats' sheet function\n",
    "\n",
    "def ws2_addStats(ws2, ws_xx):\n",
    "    for row_ws2 in range(2, ws2.max_row + 1):\n",
    "        for ws_xx_row in range(2, ws_xx.max_row + 1):\n",
    "            if (ws2.cell(row_ws2, 1).value == ws_xx.cell(ws_xx_row, 1).value):\n",
    "                if (ws2.cell(row_ws2, 2).value == None):\n",
    "                    for col in range(2, ws2.max_column + 1):\n",
    "                        ws2.cell(row_ws2, col).value = ws_xx.cell(ws_xx_row, col).value \n",
    "                else :\n",
    "                    for col in range(2, ws2.max_column + 1):\n",
    "                        ws2.cell(row_ws2, col).value = ws2.cell(row_ws2, col).value + ws_xx.cell(ws_xx_row, col).value\n",
    "\n",
    "    wb1.save('Players.xlsx')"
   ]
  },
  {
   "cell_type": "code",
   "execution_count": 9,
   "metadata": {},
   "outputs": [],
   "source": [
    "# adding stats from Stats xl sheet to 'Player Stats' sheet function\n",
    "\n",
    "ws2_addStats(ws2, ws19)\n",
    "ws2_addStats(ws2, ws20)\n",
    "ws2_addStats(ws2, ws21)"
   ]
  },
  {
   "cell_type": "code",
   "execution_count": 10,
   "metadata": {},
   "outputs": [],
   "source": [
    "# adding player position column from 'Player Details' sheet to 'Player Stats sheet'\n",
    "\n",
    "ws2_addColumn(5, ws2.max_column + 1)"
   ]
  },
  {
   "cell_type": "code",
   "execution_count": 12,
   "metadata": {},
   "outputs": [],
   "source": [
    "# adding player position no. column from 'Player Details' sheet to 'Player Stats sheet'\n",
    "ws2_addColumn(6, ws2.max_column + 1)"
   ]
  },
  {
   "cell_type": "code",
   "execution_count": 13,
   "metadata": {},
   "outputs": [],
   "source": [
    "# adding player height column from 'Player Details' sheet to 'Player Stats sheet'\n",
    "ws2_addColumn(7, ws2.max_column + 1)"
   ]
  },
  {
   "cell_type": "code",
   "execution_count": 14,
   "metadata": {},
   "outputs": [],
   "source": [
    "# adding player weight column from 'Player Details' sheet to 'Player Stats sheet'\n",
    "\n",
    "ws2_addColumn(8, ws2.max_column + 1)"
   ]
  },
  {
   "cell_type": "code",
   "execution_count": null,
   "metadata": {},
   "outputs": [],
   "source": []
  }
 ],
 "metadata": {
  "kernelspec": {
   "display_name": "Python 3",
   "language": "python",
   "name": "python3"
  },
  "language_info": {
   "codemirror_mode": {
    "name": "ipython",
    "version": 3
   },
   "file_extension": ".py",
   "mimetype": "text/x-python",
   "name": "python",
   "nbconvert_exporter": "python",
   "pygments_lexer": "ipython3",
   "version": "3.8.5"
  }
 },
 "nbformat": 4,
 "nbformat_minor": 4
}
