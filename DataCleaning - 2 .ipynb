{
 "cells": [
  {
   "cell_type": "code",
   "execution_count": 1,
   "metadata": {},
   "outputs": [],
   "source": [
    "import openpyxl as xl\n",
    "import requests"
   ]
  },
  {
   "cell_type": "code",
   "execution_count": 2,
   "metadata": {},
   "outputs": [],
   "source": [
    "# manually add a 'Prediction Stats' sheet on Players xl sheet"
   ]
  },
  {
   "cell_type": "code",
   "execution_count": 3,
   "metadata": {},
   "outputs": [],
   "source": [
    "# loading Players xl sheet\n",
    "\n",
    "wb1 = xl.load_workbook('Players.xlsx')\n",
    "ws1 = wb1['Player Details']\n",
    "ws2 = wb1['Player Stats']\n",
    "ws3 = wb1['Prediction Stats']"
   ]
  },
  {
   "cell_type": "code",
   "execution_count": 4,
   "metadata": {},
   "outputs": [],
   "source": [
    "# loading Stats xl sheet\n",
    "\n",
    "wb2 = xl.load_workbook('Stats.xlsx')\n",
    "ws19 = wb2['2019 Stats']\n",
    "ws20 = wb2['2020 Stats']\n",
    "ws21 = wb2['2021 Stats']"
   ]
  },
  {
   "cell_type": "code",
   "execution_count": null,
   "metadata": {},
   "outputs": [],
   "source": []
  }
 ],
 "metadata": {
  "kernelspec": {
   "display_name": "Python 3",
   "language": "python",
   "name": "python3"
  },
  "language_info": {
   "codemirror_mode": {
    "name": "ipython",
    "version": 3
   },
   "file_extension": ".py",
   "mimetype": "text/x-python",
   "name": "python",
   "nbconvert_exporter": "python",
   "pygments_lexer": "ipython3",
   "version": "3.8.5"
  }
 },
 "nbformat": 4,
 "nbformat_minor": 4
}
