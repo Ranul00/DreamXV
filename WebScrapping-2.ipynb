{
 "cells": [
  {
   "cell_type": "code",
   "execution_count": 13,
   "metadata": {},
   "outputs": [],
   "source": [
    "import openpyxl as xl\n",
    "import requests \n",
    "from bs4 import BeautifulSoup"
   ]
  },
  {
   "cell_type": "code",
   "execution_count": 14,
   "metadata": {},
   "outputs": [],
   "source": [
    "class Player:    \n",
    "    def __init__(self, name, link, team):\n",
    "        self.name = name\n",
    "        self.link = link\n",
    "        self.team = team\n",
    "    \n",
    "    def getName(self):\n",
    "        return self.name\n",
    "\n",
    "    def getLink(self):\n",
    "        return self.link\n",
    "    \n",
    "    def getTeam(self):\n",
    "        return self.team"
   ]
  },
  {
   "cell_type": "code",
   "execution_count": 2,
   "metadata": {},
   "outputs": [],
   "source": [
    "# player scrape from starbunker 6 nation team function\n",
    "\n",
    "def scrapePlayers(link,team):\n",
    "    \n",
    "    playersList = []\n",
    "\n",
    "    page = requests.get(link)\n",
    "    soup = BeautifulSoup(page.content, 'html.parser')\n",
    "    \n",
    "    playerClass = soup.find(class_='hozList')\n",
    "    players = playerClass.find_all('a')\n",
    "    \n",
    "    for p in players:\n",
    "        playersList.append(Player(p.find('p').string, p['href'], team))\n",
    "        \n",
    "    return playersList\n"
   ]
  },
  {
   "cell_type": "code",
   "execution_count": 16,
   "metadata": {},
   "outputs": [],
   "source": [
    "# list for scrapped players from web\n",
    "\n",
    "scrappedPlayerList = []\n",
    "\n",
    "scrappedPlayerList21 = []\n",
    "scrappedPlayerList20 = []\n",
    "scrappedPlayerList19 = []"
   ]
  },
  {
   "cell_type": "code",
   "execution_count": 3,
   "metadata": {},
   "outputs": [],
   "source": [
    "# players adding to scarppedPlayerList function\n",
    "\n",
    "def playersAddToSPL(playerList, scrapeList):\n",
    "    for player in playerList:\n",
    "        scrapeList.append(player)"
   ]
  },
  {
   "cell_type": "code",
   "execution_count": 18,
   "metadata": {},
   "outputs": [],
   "source": [
    "#  adding players to scarppedPlayerList21\n",
    "\n"
   ]
  },
  {
   "cell_type": "code",
   "execution_count": 19,
   "metadata": {},
   "outputs": [],
   "source": [
    "#  adding players to scarppedPlayerList20\n",
    "\n"
   ]
  },
  {
   "cell_type": "code",
   "execution_count": 20,
   "metadata": {},
   "outputs": [],
   "source": [
    "#  adding players to scarppedPlayerList19\n",
    "\n"
   ]
  },
  {
   "cell_type": "code",
   "execution_count": 21,
   "metadata": {},
   "outputs": [],
   "source": [
    "# players adding to scrappedPlayerList list function\n",
    "\n"
   ]
  },
  {
   "cell_type": "code",
   "execution_count": 22,
   "metadata": {},
   "outputs": [],
   "source": [
    "# adding to scrappedPlayerList list\n",
    "\n"
   ]
  },
  {
   "cell_type": "code",
   "execution_count": null,
   "metadata": {},
   "outputs": [],
   "source": []
  }
 ],
 "metadata": {
  "kernelspec": {
   "display_name": "Python 3",
   "language": "python",
   "name": "python3"
  },
  "language_info": {
   "codemirror_mode": {
    "name": "ipython",
    "version": 3
   },
   "file_extension": ".py",
   "mimetype": "text/x-python",
   "name": "python",
   "nbconvert_exporter": "python",
   "pygments_lexer": "ipython3",
   "version": "3.8.5"
  }
 },
 "nbformat": 4,
 "nbformat_minor": 4
}
