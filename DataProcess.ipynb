{
 "cells": [
  {
   "cell_type": "code",
   "execution_count": 1,
   "metadata": {},
   "outputs": [],
   "source": [
    "import pandas as pd"
   ]
  },
  {
   "cell_type": "code",
   "execution_count": 2,
   "metadata": {},
   "outputs": [],
   "source": [
    "class Player:    \n",
    "    def __init__(self, name, score, link, img, position, positionNo, height, weight, dob, team):\n",
    "        self.name = name\n",
    "        self.score = score\n",
    "        self.link = link\n",
    "        self.img = img\n",
    "        self.position = position\n",
    "        self.positionNo = positionNo\n",
    "        self.height = height\n",
    "        self.weight = weight\n",
    "        self.dob = dob\n",
    "        self.team = team\n",
    "    \n",
    "    def getName(self):\n",
    "        return self.name\n",
    "\n",
    "    def getScore(self):\n",
    "        return self.score\n",
    "\n",
    "    def getLink(self):\n",
    "        return self.link\n",
    "\n",
    "    def getImg(self):\n",
    "        return self.img\n",
    "\n",
    "    def getPosition(self):\n",
    "        return self.position\n",
    "    \n",
    "    def getPositionNo(self):\n",
    "        return self.positionNo\n",
    "\n",
    "    def getHeight(self):\n",
    "        return self.height\n",
    "\n",
    "    def getWeight(self):\n",
    "        return self.weight\n",
    "\n",
    "    def getDob(self):\n",
    "        return self.dob\n",
    "\n",
    "    def getTeam(self):\n",
    "        return self.team\n",
    "    \n",
    "    def printPlayer(self):\n",
    "        print(\"Name: \" + self.name + \"\\nRPI: \" + str(self.score))"
   ]
  },
  {
   "cell_type": "code",
   "execution_count": 3,
   "metadata": {},
   "outputs": [],
   "source": [
    "class Date:    \n",
    "    def __init__(self, day, month, year):\n",
    "        self.day = day        \n",
    "        self.month = month                \n",
    "        self.year = year\n",
    "\n",
    "    def getDay(self):\n",
    "        return self.day\n",
    "\n",
    "    def getMonth(self):\n",
    "        return self.month\n",
    "\n",
    "    def getYear(self):\n",
    "        return self.year"
   ]
  },
  {
   "cell_type": "code",
   "execution_count": null,
   "metadata": {},
   "outputs": [],
   "source": []
  }
 ],
 "metadata": {
  "kernelspec": {
   "display_name": "Python 3",
   "language": "python",
   "name": "python3"
  },
  "language_info": {
   "codemirror_mode": {
    "name": "ipython",
    "version": 3
   },
   "file_extension": ".py",
   "mimetype": "text/x-python",
   "name": "python",
   "nbconvert_exporter": "python",
   "pygments_lexer": "ipython3",
   "version": "3.8.5"
  }
 },
 "nbformat": 4,
 "nbformat_minor": 4
}
