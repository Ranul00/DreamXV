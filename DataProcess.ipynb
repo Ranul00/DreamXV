{
 "cells": [
  {
   "cell_type": "code",
   "execution_count": 1,
   "metadata": {},
   "outputs": [],
   "source": [
    "import pandas as pd\n",
    "from sklearn.tree import DecisionTreeClassifier\n",
    "from sklearn.model_selection import train_test_split\n",
    "from sklearn.metrics import accuracy_score\n",
    "import openpyxl as xl\n",
    "import requests"
   ]
  },
  {
   "cell_type": "code",
   "execution_count": 2,
   "metadata": {},
   "outputs": [],
   "source": [
    "# Loading Players xl sheet 'Prediction Stats'\n",
    "\n",
    "df1 = pd.read_excel(\"Players.xlsx\", \"Prediction Stats\", index_col=None, na_values=[\"NA\"])"
   ]
  },
  {
   "cell_type": "code",
   "execution_count": 3,
   "metadata": {},
   "outputs": [],
   "source": [
    "# column checks\n",
    "\n",
    "df2 = df1[df1[\"MP\"] != \"-\"]\n",
    "\n",
    "df3 = df2[df2[\"MP\"] > 0]\n",
    "          \n",
    "df4 = df3[df3[\"Position\"] != \"-\"]\n",
    "\n",
    "df5 = df4[df4[\"Position No\"] != \"-\"]\n",
    "\n",
    "df6 = df5[df5[\"Height\"] != \"-\"] \n",
    "\n",
    "df7 = df6[df6[\"Weight\"] != \"-\"]"
   ]
  },
  {
   "cell_type": "code",
   "execution_count": 4,
   "metadata": {},
   "outputs": [],
   "source": [
    "# creating input dataset\n",
    "\n",
    "X = df7.drop(columns = ['Name', 'Position', 'Position No'])"
   ]
  },
  {
   "cell_type": "code",
   "execution_count": 5,
   "metadata": {},
   "outputs": [],
   "source": [
    "# creating target dataset\n",
    "\n",
    "y = df6['Position']"
   ]
  },
  {
   "cell_type": "code",
   "execution_count": null,
   "metadata": {},
   "outputs": [],
   "source": []
  }
 ],
 "metadata": {
  "kernelspec": {
   "display_name": "Python 3",
   "language": "python",
   "name": "python3"
  },
  "language_info": {
   "codemirror_mode": {
    "name": "ipython",
    "version": 3
   },
   "file_extension": ".py",
   "mimetype": "text/x-python",
   "name": "python",
   "nbconvert_exporter": "python",
   "pygments_lexer": "ipython3",
   "version": "3.8.5"
  }
 },
 "nbformat": 4,
 "nbformat_minor": 4
}
